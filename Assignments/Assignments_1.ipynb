{
 "cells": [
  {
   "cell_type": "code",
   "execution_count": 2,
   "metadata": {},
   "outputs": [
    {
     "name": "stdout",
     "output_type": "stream",
     "text": [
      "H\n",
      "l\n",
      "o\n"
     ]
    }
   ],
   "source": [
    "#1A\n",
    "a = \"Hello\"\n",
    "print(b[:1])\n",
    "print(b[2:3])\n",
    "print(b[4:5])"
   ]
  },
  {
   "cell_type": "code",
   "execution_count": 1,
   "metadata": {},
   "outputs": [
    {
     "name": "stdout",
     "output_type": "stream",
     "text": [
      "gnm\n"
     ]
    }
   ],
   "source": [
    "#1B\n",
    "a = \"Assignments\"\n",
    "print(a[4:-4])\n"
   ]
  },
  {
   "cell_type": "code",
   "execution_count": 2,
   "metadata": {},
   "outputs": [
    {
     "name": "stdout",
     "output_type": "stream",
     "text": [
      "hjp\n",
      "lah\n",
      "oyk\n"
     ]
    }
   ],
   "source": [
    "#Exercise-3\n",
    "a = \"hello\"\n",
    "b = \"jay\"\n",
    "c = \"pathak\"\n",
    "print((a[:-4]) + (b[:-2]) + (c[:-5]))\n",
    "print((a[2:-2]) + (b[1:-1]) + (c[3:-2]))\n",
    "print((a[4:]) + (b[2:]) + (c[5:]))  \n"
   ]
  },
  {
   "cell_type": "code",
   "execution_count": 14,
   "metadata": {},
   "outputs": [
    {
     "name": "stdout",
     "output_type": "stream",
     "text": [
      "Hello, My Self Jay Pathak.\n"
     ]
    }
   ],
   "source": [
    "#Exercise2\n",
    "intro = \"Hello, My Self Pathak.\"\n",
    "index = intro.find(\"Pathak\")\n",
    "final_intro = intro[:index] + \"Jay \" + intro[index:]\n",
    "print(final_intro)\n"
   ]
  },
  {
   "cell_type": "code",
   "execution_count": 2,
   "metadata": {},
   "outputs": [
    {
     "name": "stdout",
     "output_type": "stream",
     "text": [
      "echnologieT\n"
     ]
    }
   ],
   "source": [
    "#Exercise4\n",
    "str = \"Technologies\"\n",
    "print(str[1:11] + str[:-11])"
   ]
  },
  {
   "cell_type": "code",
   "execution_count": null,
   "metadata": {},
   "outputs": [],
   "source": []
  },
  {
   "cell_type": "code",
   "execution_count": 9,
   "metadata": {},
   "outputs": [
    {
     "name": "stdout",
     "output_type": "stream",
     "text": [
      " PoygtnhaojnD\n"
     ]
    }
   ],
   "source": [
    "#Exercise6\n",
    "str1 = \"Python\"\n",
    "str2 = \"Django\"\n",
    "str3 = \" \"\n",
    "for i in range(len(str1)):\n",
    "    str3+=str1[i]\n",
    "    str3+=str2[-i-1]\n",
    "print(str3)"
   ]
  },
  {
   "cell_type": "code",
   "execution_count": 12,
   "metadata": {},
   "outputs": [
    {
     "data": {
      "text/plain": [
       "True"
      ]
     },
     "execution_count": 12,
     "metadata": {},
     "output_type": "execute_result"
    }
   ],
   "source": [
    "\"Maulik\" == \"Maulik\""
   ]
  },
  {
   "cell_type": "code",
   "execution_count": 18,
   "metadata": {},
   "outputs": [],
   "source": [
    "q = \"Exercise 8: Find all occurrences of a substring in a given string by ignoring the case\""
   ]
  },
  {
   "cell_type": "code",
   "execution_count": 22,
   "metadata": {},
   "outputs": [],
   "source": [
    "counter=0\n",
    "indexes = []\n",
    "for i, v in enumerate(q):\n",
    "    if v == \"e\" or v == \"E\":\n",
    "        indexes.append(i)\n",
    "        counter+=1"
   ]
  },
  {
   "cell_type": "code",
   "execution_count": 23,
   "metadata": {},
   "outputs": [
    {
     "data": {
      "text/plain": [
       "[0, 2, 7, 27, 30, 56, 80, 85]"
      ]
     },
     "execution_count": 23,
     "metadata": {},
     "output_type": "execute_result"
    }
   ],
   "source": [
    "indexes"
   ]
  },
  {
   "cell_type": "code",
   "execution_count": 15,
   "metadata": {},
   "outputs": [
    {
     "data": {
      "text/plain": [
       "8"
      ]
     },
     "execution_count": 15,
     "metadata": {},
     "output_type": "execute_result"
    }
   ],
   "source": [
    "counter"
   ]
  },
  {
   "cell_type": "code",
   "execution_count": 21,
   "metadata": {},
   "outputs": [
    {
     "name": "stdout",
     "output_type": "stream",
     "text": [
      "(0, 'E')\n",
      "(1, 'x')\n",
      "(2, 'e')\n",
      "(3, 'r')\n",
      "(4, 'c')\n",
      "(5, 'i')\n",
      "(6, 's')\n",
      "(7, 'e')\n",
      "(8, ' ')\n",
      "(9, '8')\n",
      "(10, ':')\n",
      "(11, ' ')\n",
      "(12, 'F')\n",
      "(13, 'i')\n",
      "(14, 'n')\n",
      "(15, 'd')\n",
      "(16, ' ')\n",
      "(17, 'a')\n",
      "(18, 'l')\n",
      "(19, 'l')\n",
      "(20, ' ')\n",
      "(21, 'o')\n",
      "(22, 'c')\n",
      "(23, 'c')\n",
      "(24, 'u')\n",
      "(25, 'r')\n",
      "(26, 'r')\n",
      "(27, 'e')\n",
      "(28, 'n')\n",
      "(29, 'c')\n",
      "(30, 'e')\n",
      "(31, 's')\n",
      "(32, ' ')\n",
      "(33, 'o')\n",
      "(34, 'f')\n",
      "(35, ' ')\n",
      "(36, 'a')\n",
      "(37, ' ')\n",
      "(38, 's')\n",
      "(39, 'u')\n",
      "(40, 'b')\n",
      "(41, 's')\n",
      "(42, 't')\n",
      "(43, 'r')\n",
      "(44, 'i')\n",
      "(45, 'n')\n",
      "(46, 'g')\n",
      "(47, ' ')\n",
      "(48, 'i')\n",
      "(49, 'n')\n",
      "(50, ' ')\n",
      "(51, 'a')\n",
      "(52, ' ')\n",
      "(53, 'g')\n",
      "(54, 'i')\n",
      "(55, 'v')\n",
      "(56, 'e')\n",
      "(57, 'n')\n",
      "(58, ' ')\n",
      "(59, 's')\n",
      "(60, 't')\n",
      "(61, 'r')\n",
      "(62, 'i')\n",
      "(63, 'n')\n",
      "(64, 'g')\n",
      "(65, ' ')\n",
      "(66, 'b')\n",
      "(67, 'y')\n",
      "(68, ' ')\n",
      "(69, 'i')\n",
      "(70, 'g')\n",
      "(71, 'n')\n",
      "(72, 'o')\n",
      "(73, 'r')\n",
      "(74, 'i')\n",
      "(75, 'n')\n",
      "(76, 'g')\n",
      "(77, ' ')\n",
      "(78, 't')\n",
      "(79, 'h')\n",
      "(80, 'e')\n",
      "(81, ' ')\n",
      "(82, 'c')\n",
      "(83, 'a')\n",
      "(84, 's')\n",
      "(85, 'e')\n"
     ]
    }
   ],
   "source": [
    "for i in enumerate(q):\n",
    "    print(i)"
   ]
  },
  {
   "cell_type": "code",
   "execution_count": 53,
   "metadata": {},
   "outputs": [],
   "source": [
    "q.replace(\"E\", \" @ \")\n",
    "a = q.replace(\"e\", \" @ \")"
   ]
  },
  {
   "cell_type": "code",
   "execution_count": 55,
   "metadata": {},
   "outputs": [
    {
     "data": {
      "text/plain": [
       "' @ x @ rcis @  8: Find all occurr @ nc @ s of a substring in a giv @ n string by ignoring th @  cas @ '"
      ]
     },
     "execution_count": 55,
     "metadata": {},
     "output_type": "execute_result"
    }
   ],
   "source": [
    "a.replace(\"E\", \" @ \")"
   ]
  },
  {
   "cell_type": "code",
   "execution_count": 32,
   "metadata": {},
   "outputs": [
    {
     "ename": "TypeError",
     "evalue": "'str' object doesn't support item deletion",
     "output_type": "error",
     "traceback": [
      "\u001b[1;31m---------------------------------------------------------------------------\u001b[0m",
      "\u001b[1;31mTypeError\u001b[0m                                 Traceback (most recent call last)",
      "\u001b[1;32mc:\\Users\\Administrator\\Desktop\\Python Project\\Assignments_1.ipynb Cell 17'\u001b[0m in \u001b[0;36m<cell line: 1>\u001b[1;34m()\u001b[0m\n\u001b[1;32m----> <a href='vscode-notebook-cell:/c%3A/Users/Administrator/Desktop/Python%20Project/Assignments_1.ipynb#ch0000016?line=0'>1</a>\u001b[0m \u001b[39mdel\u001b[39;00m q[\u001b[39m5\u001b[39m]\n",
      "\u001b[1;31mTypeError\u001b[0m: 'str' object doesn't support item deletion"
     ]
    }
   ],
   "source": [
    "[5]"
   ]
  },
  {
   "cell_type": "code",
   "execution_count": null,
   "metadata": {},
   "outputs": [],
   "source": [
    "#exercise 5: \n"
   ]
  }
 ],
 "metadata": {
  "interpreter": {
   "hash": "11f1dc213e07634baa4c5c321dec03c05dafae643c50f20e6d1a492290c05dc2"
  },
  "kernelspec": {
   "display_name": "Python 3.9.6 64-bit",
   "language": "python",
   "name": "python3"
  },
  "language_info": {
   "codemirror_mode": {
    "name": "ipython",
    "version": 3
   },
   "file_extension": ".py",
   "mimetype": "text/x-python",
   "name": "python",
   "nbconvert_exporter": "python",
   "pygments_lexer": "ipython3",
   "version": "3.9.6"
  },
  "orig_nbformat": 4
 },
 "nbformat": 4,
 "nbformat_minor": 2
}
