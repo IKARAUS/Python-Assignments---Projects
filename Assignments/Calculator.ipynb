{
 "cells": [
  {
   "cell_type": "code",
   "execution_count": 14,
   "metadata": {},
   "outputs": [
    {
     "name": "stdout",
     "output_type": "stream",
     "text": [
      "Calculate Whatever You Want\n",
      "1. Addition\n",
      "2. Substraction\n",
      "3. Multiplication\n",
      "4. Division\n",
      "Invalid Choice\n"
     ]
    }
   ],
   "source": [
    "\n",
    "print(\"Calculate Whatever You Want\")\n",
    "print(\"1. Addition\")\n",
    "print(\"2. Substraction\")\n",
    "print(\"3. Multiplication\")\n",
    "print(\"4. Division\")\n",
    "\n",
    "\n",
    "i = int(input(\"Enter Your Choice: \"))\n",
    "\n",
    "if i==1:\n",
    "    a=int(input(\"Enter A: \"))\n",
    "    b=int(input(\"Enter B: \"))\n",
    "    res=a+b\n",
    "    print(\"Final Result After Addition: \", res)\n",
    "elif i==2:\n",
    "    a=int(input(\"Enter A: \"))\n",
    "    b=int(input(\"Enter B: \"))\n",
    "    res=a-b\n",
    "    print(\"Final Result After Subtraction: \", res)\n",
    "elif  i==3:\n",
    "    a=int(input(\"Enter A: \"))\n",
    "    b=int(input(\"Enter B: \"))\n",
    "    res=a*b\n",
    "    print(\"Final Result After Multiplication: \", res)\n",
    "elif i==4:\n",
    "    a=int(input(\"Enter A: \"))\n",
    "    b=int(input(\"Enter B: \"))\n",
    "    res=a/b\n",
    "    print(\"Final Result After Divide: \", res)\n",
    "else:\n",
    "    print(\"Invalid Choice\")\n"
   ]
  },
  {
   "cell_type": "code",
   "execution_count": null,
   "metadata": {},
   "outputs": [],
   "source": []
  },
  {
   "cell_type": "code",
   "execution_count": null,
   "metadata": {},
   "outputs": [],
   "source": []
  }
 ],
 "metadata": {
  "interpreter": {
   "hash": "11f1dc213e07634baa4c5c321dec03c05dafae643c50f20e6d1a492290c05dc2"
  },
  "kernelspec": {
   "display_name": "Python 3.9.6 64-bit",
   "language": "python",
   "name": "python3"
  },
  "language_info": {
   "codemirror_mode": {
    "name": "ipython",
    "version": 3
   },
   "file_extension": ".py",
   "mimetype": "text/x-python",
   "name": "python",
   "nbconvert_exporter": "python",
   "pygments_lexer": "ipython3",
   "version": "3.9.6"
  },
  "orig_nbformat": 4
 },
 "nbformat": 4,
 "nbformat_minor": 2
}
