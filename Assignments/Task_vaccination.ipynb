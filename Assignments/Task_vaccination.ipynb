{
 "cells": [
  {
   "cell_type": "code",
   "execution_count": 40,
   "metadata": {},
   "outputs": [],
   "source": [
    "import datetime\n",
    "\n",
    "d = datetime.datetime.now()\n",
    "d = (str)(d.datetime())\n",
    "file = open(d,'a')\n",
    "\n",
    "while True:\n",
    "    file.write(f'Today date is: {d}')\n",
    "    n = input(\"Enter your name: \")\n",
    "    file.write(f'\\nyour name is: {n}\\n')\n",
    "    g = input(\"Your Gender please: \")\n",
    "    file.write(f'\\nyour gender is: {g}\\n')\n",
    "    a = int(input(\"Enter your current age: \"))\n",
    "    file.write(f'\\nyour age is: {a}\\n')\n",
    "    contact_no = int(input(\"Enter your mobile number: \"))\n",
    "    file.write(f'\\nyour contact number is: {contact_no}\\n')\n",
    "\n",
    "    vaccination_doze = int(input(\"enter vaccination doze\"))\n",
    "    file.write(f'\\nyour vaccination doze is: {vaccination_doze}\\n')\n",
    "    # vaccine = \"covishield\"\n",
    "    # file.write(f'\\nVaccine is: {vaccine}\\n')\n",
    "    vaccine = input(\"\\nEnter your vaccine name: \\n\")\n",
    "    a = 'covishield'\n",
    "    b = 'covaxine'\n",
    "    if vaccine == 'a':\n",
    "        file.write(f'\\nyour vaccine is: {a}\\n')\n",
    "    else:\n",
    "        file.write(f'\\nyour vaccine is: {b}\\n')\n",
    "\n",
    "    file.write(\"****----****----****----****----****----****----****\")\n",
    "    choice = input(\"do you want to add more person, press 'y' for yes and press 'n' for no : \").lower()\n",
    "    if choice == 'y':\n",
    "        continue\n",
    "    elif choice == 'n':\n",
    "        break\n",
    "    else:\n",
    "        print(\"invalid syntax\")\n",
    "file.close()"
   ]
  },
  {
   "cell_type": "code",
   "execution_count": null,
   "metadata": {},
   "outputs": [],
   "source": []
  }
 ],
 "metadata": {
  "interpreter": {
   "hash": "6fff98fc3b3d81bd655c2cc48858186e4d9e2db7b515bf1c3221888f12a62f87"
  },
  "kernelspec": {
   "display_name": "Python 3.9.6 64-bit",
   "language": "python",
   "name": "python3"
  },
  "language_info": {
   "codemirror_mode": {
    "name": "ipython",
    "version": 3
   },
   "file_extension": ".py",
   "mimetype": "text/x-python",
   "name": "python",
   "nbconvert_exporter": "python",
   "pygments_lexer": "ipython3",
   "version": "3.9.6"
  },
  "orig_nbformat": 4
 },
 "nbformat": 4,
 "nbformat_minor": 2
}
