{
 "cells": [
  {
   "cell_type": "code",
   "execution_count": 4,
   "metadata": {},
   "outputs": [
    {
     "ename": "TypeError",
     "evalue": "'>=' not supported between instances of 'str' and 'int'",
     "output_type": "error",
     "traceback": [
      "\u001b[1;31m---------------------------------------------------------------------------\u001b[0m",
      "\u001b[1;31mTypeError\u001b[0m                                 Traceback (most recent call last)",
      "\u001b[1;32mc:\\Users\\Administrator\\Desktop\\Python Project\\Conditions.ipynb Cell 1'\u001b[0m in \u001b[0;36m<cell line: 3>\u001b[1;34m()\u001b[0m\n\u001b[0;32m      <a href='vscode-notebook-cell:/c%3A/Users/Administrator/Desktop/Python%20Project/Conditions.ipynb#ch0000000?line=0'>1</a>\u001b[0m name \u001b[39m=\u001b[39m \u001b[39minput\u001b[39m(\u001b[39m\"\u001b[39m\u001b[39mPlease Enter Your Name : \u001b[39m\u001b[39m\"\u001b[39m)\n\u001b[0;32m      <a href='vscode-notebook-cell:/c%3A/Users/Administrator/Desktop/Python%20Project/Conditions.ipynb#ch0000000?line=1'>2</a>\u001b[0m age \u001b[39m=\u001b[39m \u001b[39minput\u001b[39m(\u001b[39m\"\u001b[39m\u001b[39mPlease Enter Your Age : \u001b[39m\u001b[39m\"\u001b[39m)\n\u001b[1;32m----> <a href='vscode-notebook-cell:/c%3A/Users/Administrator/Desktop/Python%20Project/Conditions.ipynb#ch0000000?line=2'>3</a>\u001b[0m \u001b[39mif\u001b[39;00m age\u001b[39m>\u001b[39;49m\u001b[39m=\u001b[39;49m\u001b[39m18\u001b[39;49m:\n\u001b[0;32m      <a href='vscode-notebook-cell:/c%3A/Users/Administrator/Desktop/Python%20Project/Conditions.ipynb#ch0000000?line=3'>4</a>\u001b[0m     \u001b[39mprint\u001b[39m(\u001b[39m\"\u001b[39m\u001b[39mPlease Vote Modiji\u001b[39m\u001b[39m\"\u001b[39m)\n\u001b[0;32m      <a href='vscode-notebook-cell:/c%3A/Users/Administrator/Desktop/Python%20Project/Conditions.ipynb#ch0000000?line=4'>5</a>\u001b[0m \u001b[39melse\u001b[39;00m:\n",
      "\u001b[1;31mTypeError\u001b[0m: '>=' not supported between instances of 'str' and 'int'"
     ]
    }
   ],
   "source": [
    "name = input(\"Please Enter Your Name : \")\n",
    "age = input(\"Please Enter Your Age : \")\n",
    "if age>=18:\n",
    "    print(\"Please Vote Modiji\")\n",
    "else:\n",
    "    print(\"Please Tell Your Parents To vote Modiji\")"
   ]
  },
  {
   "cell_type": "code",
   "execution_count": 2,
   "metadata": {},
   "outputs": [
    {
     "name": "stdout",
     "output_type": "stream",
     "text": [
      "Please Vote Modiji\n"
     ]
    }
   ],
   "source": [
    "name = input(\"Please Enter Your Name : \")\n",
    "age = input(\"Please Enter Your Age : \")\n",
    "if int(age) > 18:\n",
    "    print(\"Please Vote Modiji\")\n",
    "else:\n",
    "    print(\"Please Tell Your Parents To vote Modiji\")"
   ]
  },
  {
   "cell_type": "code",
   "execution_count": 5,
   "metadata": {},
   "outputs": [
    {
     "name": "stdout",
     "output_type": "stream",
     "text": [
      "You are gonna Rock The World ....!!!\n"
     ]
    }
   ],
   "source": [
    "age = int(input(\"Please enter your age: \"))\n",
    "if int(age) > 2 and (age) < 5:\n",
    "    print(\"You are gonna Rock The World ....!!!\")\n",
    "elif (age)< 2 and (age) > 5:\n",
    "    print(\"Not a Valid Age....!!!!\")\n",
    "else:\n",
    "    print(\"Please enter a valid number\")\n",
    "    "
   ]
  },
  {
   "cell_type": "code",
   "execution_count": null,
   "metadata": {},
   "outputs": [],
   "source": [
    "age = int(input(\"Please enter your age: \"))\n",
    "if int(age) > 2 or (age) < 5:\n",
    "    print(\"You are gonna Rock The World ....!!!\")\n",
    "elif (age)< 2 or (age) > 5:\n",
    "    print(\"Not a Valid Age....!!!!\")\n",
    "else:\n",
    "    print(\"Please enter a valid number\")\n",
    "    "
   ]
  }
 ],
 "metadata": {
  "interpreter": {
   "hash": "11f1dc213e07634baa4c5c321dec03c05dafae643c50f20e6d1a492290c05dc2"
  },
  "kernelspec": {
   "display_name": "Python 3.9.6 64-bit",
   "language": "python",
   "name": "python3"
  },
  "language_info": {
   "codemirror_mode": {
    "name": "ipython",
    "version": 3
   },
   "file_extension": ".py",
   "mimetype": "text/x-python",
   "name": "python",
   "nbconvert_exporter": "python",
   "pygments_lexer": "ipython3",
   "version": "3.9.6"
  },
  "orig_nbformat": 4
 },
 "nbformat": 4,
 "nbformat_minor": 2
}
