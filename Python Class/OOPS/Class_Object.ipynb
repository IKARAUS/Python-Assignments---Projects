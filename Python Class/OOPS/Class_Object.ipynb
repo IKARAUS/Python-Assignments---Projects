{
 "cells": [
  {
   "cell_type": "code",
   "execution_count": 4,
   "metadata": {},
   "outputs": [
    {
     "name": "stdout",
     "output_type": "stream",
     "text": [
      "VEHICLE CLASS\n",
      "brand :  maruti\n",
      "wheels :  4\n",
      "VEHICLE CLASS\n",
      "brand :  suzuki\n",
      "wheels :  2\n"
     ]
    }
   ],
   "source": [
    "class Vehicle:\n",
    "    def __init__(self, vehicle_type):\n",
    "        print(\"VEHICLE CLASS\")\n",
    "        self.vehicle_type = vehicle_type\n",
    "    \n",
    "    def inputDetails(self):\n",
    "        if self.vehicle_type == \"car\":\n",
    "            self.brand = input(\"Enter Brand: \")\n",
    "            self.wheels = int(input(\"Enter Wheels: \"))\n",
    "        \n",
    "        elif self.vehicle_type == \"bike\":\n",
    "            self.brand = input(\"Enter Brand: \")\n",
    "            self.wheels = int(input(\"Enter Wheels: \"))\n",
    "            \n",
    "        else:\n",
    "            print(\"Sorry Information is not Available\")\n",
    "        \n",
    "    def display(self):\n",
    "        print(\"brand : \",self.brand)\n",
    "        print(\"wheels : \",self.wheels)    \n",
    "            \n",
    "car = Vehicle(\"car\")\n",
    "car.inputDetails()\n",
    "car.display()\n",
    "\n",
    "bike = Vehicle(\"bike\")\n",
    "bike.inputDetails()\n",
    "bike.display()"
   ]
  },
  {
   "cell_type": "code",
   "execution_count": 2,
   "metadata": {},
   "outputs": [
    {
     "name": "stdout",
     "output_type": "stream",
     "text": [
      "WELCOME TO TOPS TECHNOLOGIES\n",
      "Firstname =  Jay\n",
      "Lastname =  Pathak\n",
      "Subject =  Python\n",
      "Marks =  78\n",
      "WELCOME TO TOPS TECHNOLOGIES\n",
      "Firstname =  Anjali\n",
      "Lastname =  Patel\n",
      "depart =  Python\n"
     ]
    }
   ],
   "source": [
    "class Student:\n",
    "    def __init__(self):\n",
    "        print(\"WELCOME TO TOPS TECHNOLOGIES\")\n",
    "        \n",
    "    def inputDetails(self, fname, lname, subject, marks):\n",
    "        self.firstname = fname\n",
    "        self.lastname = lname\n",
    "        self.subject = subject\n",
    "        self.marks = marks\n",
    "        \n",
    "    def displayDetails(self):\n",
    "    # def displayDetails(self) -> str:\n",
    "        # return \"firstname: \"+self.firstname+ \"lastname: \"+self.lastname+ \"Subject: \"+self.subject+ \"marks: \"+self.marks\n",
    "        print(\"Firstname = \",self.firstname)\n",
    "        print(\"Lastname = \",self.lastname)\n",
    "        print(\"Subject = \",self.subject)\n",
    "        print(\"Marks = \",self.marks)\n",
    "        \n",
    "class Faculty:\n",
    "    def __init__(self) -> None:\n",
    "        print(\"WELCOME TO TOPS TECHNOLOGIES\")\n",
    "        \n",
    "    def InputDetails(self, fname, lname, depart):\n",
    "        self.firstname = fname\n",
    "        self.lastname = lname\n",
    "        self.depart = depart\n",
    "        \n",
    "    def displayDetails(self):\n",
    "        print(\"Firstname = \",self.firstname)\n",
    "        print(\"Lastname = \",self.lastname)\n",
    "        print(\"depart = \",self.depart)\n",
    "        \n",
    "        \n",
    "Jay = Student()\n",
    "Jay.inputDetails(\"Jay\", \"Pathak\", \"Python\", 78)\n",
    "Jay.displayDetails()\n",
    "\n",
    "Anjali = Faculty()\n",
    "Anjali.InputDetails(\"Anjali\", \"Patel\", \"Python\")\n",
    "Anjali.displayDetails()"
   ]
  },
  {
   "cell_type": "code",
   "execution_count": null,
   "metadata": {},
   "outputs": [],
   "source": []
  }
 ],
 "metadata": {
  "interpreter": {
   "hash": "6fff98fc3b3d81bd655c2cc48858186e4d9e2db7b515bf1c3221888f12a62f87"
  },
  "kernelspec": {
   "display_name": "Python 3.9.6 64-bit",
   "language": "python",
   "name": "python3"
  },
  "language_info": {
   "codemirror_mode": {
    "name": "ipython",
    "version": 3
   },
   "file_extension": ".py",
   "mimetype": "text/x-python",
   "name": "python",
   "nbconvert_exporter": "python",
   "pygments_lexer": "ipython3",
   "version": "3.9.6"
  },
  "orig_nbformat": 4
 },
 "nbformat": 4,
 "nbformat_minor": 2
}
