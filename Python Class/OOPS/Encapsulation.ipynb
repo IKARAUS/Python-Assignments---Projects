{
 "cells": [
  {
   "cell_type": "markdown",
   "metadata": {},
   "source": [
    "Encapsulation: which is contain dis-similar data elements and member function at same location... which is achieve by class. \n",
    "Modifiers: Private\n",
    "    Public\n",
    "    Protected\n",
    "if we write __ at prefix its define as a private mode\n",
    "(only own class can access properties)\n",
    "\n",
    "if we write _ at prefix its define as a protected mode(only own class and child class can access properties)"
   ]
  },
  {
   "cell_type": "code",
   "execution_count": 1,
   "metadata": {},
   "outputs": [
    {
     "name": "stdout",
     "output_type": "stream",
     "text": [
      "mobile =  5000\n",
      "laptop =  45000\n",
      "mobile =  15000\n",
      "laptop =  45000\n"
     ]
    }
   ],
   "source": [
    "class Product:\n",
    "    def __init__(self) -> None:\n",
    "        self.mobile = 5000\n",
    "        self.__laptop = 45000 #Private\n",
    "    \n",
    "    def display(self):\n",
    "        print(\"mobile = \", self.mobile)\n",
    "        print(\"laptop = \", self.__laptop)\n",
    "\n",
    "obj = Product()    \n",
    "obj.display()\n",
    "\n",
    "obj.mobile = 15000\n",
    "obj.__laptop = 65000\n",
    "\n",
    "obj.display()  "
   ]
  },
  {
   "cell_type": "code",
   "execution_count": 1,
   "metadata": {},
   "outputs": [
    {
     "ename": "",
     "evalue": "",
     "output_type": "error",
     "traceback": [
      "\u001b[1;31mThe Kernel crashed while executing code in the the current cell or a previous cell. Please review the code in the cell(s) to identify a possible cause of the failure. Click <a href='https://aka.ms/vscodeJupyterKernelCrash'>here</a> for more info. View Jupyter <a href='command:jupyter.viewOutput'>log</a> for further details."
     ]
    },
    {
     "ename": "",
     "evalue": "",
     "output_type": "error",
     "traceback": [
      "\u001b[1;31mCanceled future for execute_request message before replies were done"
     ]
    }
   ],
   "source": [
    "class Student:\n",
    "    def setFirstname(self, firstname):\n",
    "        self.setFirstname = firstname\n",
    "    \n",
    "    def setSubject(self, subject):\n",
    "        self.setSubject = subject\n",
    "        \n",
    "    def setRollno(self, Rollno):\n",
    "        self.setRollno = Rollno\n",
    "        \n",
    "    def getFirstname(self):\n",
    "        return self.getFirstname()\n",
    "    \n",
    "    def getSubject(self):\n",
    "        return self.getSubject()\n",
    "    \n",
    "    def getRollno(self):\n",
    "        return self.getRollno()\n",
    "    \n",
    "obj = Student()\n",
    "obj.setFirstname(\"Jay\")\n",
    "obj.setSubject(\"Python\")\n",
    "obj.setRollno(45)\n",
    "\n",
    "print(obj.getFirstname())\n",
    "print(obj.getSubject())\n",
    "print(obj.getRollno())    "
   ]
  },
  {
   "cell_type": "markdown",
   "metadata": {},
   "source": [
    "Abstraction: which is represent only few information not allocated background information its called abstraction.\n",
    "\n",
    "abstraction is a concept which is only achieve by abstract class.\n",
    "\n",
    "abstract class : which is contain only abstract class.\n",
    "\n",
    "abstract method : which is contain only method declaration not method definition."
   ]
  },
  {
   "cell_type": "code",
   "execution_count": 2,
   "metadata": {},
   "outputs": [
    {
     "name": "stdout",
     "output_type": "stream",
     "text": [
      "SBI\n",
      "8.7\n"
     ]
    }
   ],
   "source": [
    "from abc import ABC, abstractmethod\n",
    "# abstract base class\n",
    "class RBI(ABC):\n",
    "    @abstractmethod\n",
    "    def roi(self):\n",
    "        pass\n",
    "    \n",
    "class SBI(RBI):\n",
    "    def display(self):\n",
    "        print(\"SBI\")\n",
    "        \n",
    "    def roi(self):\n",
    "        print(\"8.7\")\n",
    "    \n",
    "s = SBI()\n",
    "s.display()\n",
    "s.roi()"
   ]
  },
  {
   "cell_type": "code",
   "execution_count": null,
   "metadata": {},
   "outputs": [],
   "source": []
  }
 ],
 "metadata": {
  "kernelspec": {
   "display_name": "Python 3.9.6 64-bit",
   "language": "python",
   "name": "python3"
  },
  "language_info": {
   "codemirror_mode": {
    "name": "ipython",
    "version": 3
   },
   "file_extension": ".py",
   "mimetype": "text/x-python",
   "name": "python",
   "nbconvert_exporter": "python",
   "pygments_lexer": "ipython3",
   "version": "3.9.6"
  },
  "orig_nbformat": 4,
  "vscode": {
   "interpreter": {
    "hash": "6fff98fc3b3d81bd655c2cc48858186e4d9e2db7b515bf1c3221888f12a62f87"
   }
  }
 },
 "nbformat": 4,
 "nbformat_minor": 2
}
