{
 "cells": [
  {
   "cell_type": "code",
   "execution_count": 2,
   "metadata": {},
   "outputs": [
    {
     "name": "stdout",
     "output_type": "stream",
     "text": [
      "Bird is Ready\n",
      "Swim Faster\n",
      "Run Fast\n"
     ]
    }
   ],
   "source": [
    "# class is a blueprint for the object. we can think class as a sketch of parrot with labels. Class keyword define an empty class parrot. from class we construct instances.\n",
    "# ex. class parrot:\n",
    "            # pass\n",
    "# object is an instantiation of a class. when class is defined only the description for the class object is defined. therefore no memory or storage is allocated.\n",
    "# ex: obj = parrot()\n",
    "# we can access the class attribute using _class_.species\n",
    "# Inheritance is way of creating new class for using details of an existing class without modifying the existing it. The newly formed class is derived class, similarly, the existing class is a base class.\n",
    "class bird:\n",
    "    def __init__(self):\n",
    "        print(\"Bird is Ready\")\n",
    "    def swim(self):\n",
    "        print(\"Swim Faster\")\n",
    "class Penguin(bird):\n",
    "    def __init(self):\n",
    "        super.__init__()\n",
    "        # Super() function inside the __init__() method. This allows us to run __init__() method.\n",
    "    def run(self):\n",
    "        print(\"Run Fast\")\n",
    "p=Penguin()\n",
    "p.swim()\n",
    "p.run()"
   ]
  },
  {
   "cell_type": "code",
   "execution_count": 13,
   "metadata": {},
   "outputs": [],
   "source": [
    "# Encapsulation: we can restrict the access to the methods and variables. this prevents data from direct modification which is called encapsulation. in python we denote private attributes which using _ as the prefix i.e., single_ or double__.\n",
    "\n",
    "class Computer:\n",
    "    def __init__(self):\n",
    "        self.__maxprice=900\n",
    "    def setMaxPrice(self,price):\n",
    "        self.__maxprice=price\n",
    "c=Computer()\n",
    "c.__maxprice=1000\n",
    "c.setMaxPrice(100)"
   ]
  },
  {
   "cell_type": "code",
   "execution_count": 15,
   "metadata": {},
   "outputs": [
    {
     "name": "stdout",
     "output_type": "stream",
     "text": [
      "Parrot can fly\n",
      "Penguin can't fly\n"
     ]
    }
   ],
   "source": [
    "# Polymorphism: this have an ability to use a common interface for multiple forms. polymorphism in python defines methods in the child class that have the same name as the methods in the parent class. it is possible to modify a method in a child class that it has inherited from the parent class from child class parent class.\n",
    "\n",
    "class parrot:\n",
    "    def fly(self):\n",
    "        print(\"Parrot can fly\")\n",
    "    def swim(self):\n",
    "        print(\"Parrot can't swim\")\n",
    "class Penguin:\n",
    "    def fly(self):\n",
    "        print(\"Penguin can't fly\")\n",
    "    def swim(self):\n",
    "        print(\"penguin can swim\")\n",
    "def flying_test(bird):\n",
    "    bird.fly()\n",
    "    \n",
    "blue = parrot()\n",
    "peg= Penguin()\n",
    "\n",
    "flying_test(blue)\n",
    "flying_test(peg)"
   ]
  },
  {
   "cell_type": "code",
   "execution_count": null,
   "metadata": {},
   "outputs": [],
   "source": []
  }
 ],
 "metadata": {
  "kernelspec": {
   "display_name": "Python 3.9.6 64-bit",
   "language": "python",
   "name": "python3"
  },
  "language_info": {
   "codemirror_mode": {
    "name": "ipython",
    "version": 3
   },
   "file_extension": ".py",
   "mimetype": "text/x-python",
   "name": "python",
   "nbconvert_exporter": "python",
   "pygments_lexer": "ipython3",
   "version": "3.9.6"
  },
  "orig_nbformat": 4,
  "vscode": {
   "interpreter": {
    "hash": "6fff98fc3b3d81bd655c2cc48858186e4d9e2db7b515bf1c3221888f12a62f87"
   }
  }
 },
 "nbformat": 4,
 "nbformat_minor": 2
}
