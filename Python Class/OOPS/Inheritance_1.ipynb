{
 "cells": [
  {
   "cell_type": "code",
   "execution_count": 2,
   "metadata": {},
   "outputs": [
    {
     "name": "stdout",
     "output_type": "stream",
     "text": [
      "Hello A class is here\n",
      "Hello B class is here\n"
     ]
    }
   ],
   "source": [
    "# Single Inheritance\n",
    "\n",
    "class A:\n",
    "    def displayA(self):\n",
    "        print(\"Hello A class is here\")\n",
    "    \n",
    "class B(A):\n",
    "    def displayB(self):\n",
    "        print(\"Hello B class is here\")\n",
    "\n",
    "objB = B()\n",
    "objB.displayA()\n",
    "objB.displayB()\n"
   ]
  },
  {
   "cell_type": "code",
   "execution_count": 4,
   "metadata": {},
   "outputs": [
    {
     "name": "stdout",
     "output_type": "stream",
     "text": [
      "num1 =  12\n",
      "num2 =  5\n",
      "ans =  17\n"
     ]
    }
   ],
   "source": [
    "# Single Inheritance\n",
    "\n",
    "class A:\n",
    "    def inputA(self):\n",
    "        self.num1 = int(input(\"Enter number 1: \"))\n",
    "        self.num2 = int(input(\"Enter number 2: \"))\n",
    "        \n",
    "    \n",
    "class B(A):\n",
    "    def displayB(self):\n",
    "        print(\"num1 = \",self.num1)\n",
    "        print(\"num2 = \",self.num2)\n",
    "    \n",
    "    def ans(self):\n",
    "        result = self.num1 + self.num2\n",
    "        print(\"ans = \",result)\n",
    "        \n",
    "\n",
    "objB = B()\n",
    "objB.inputA()\n",
    "objB.displayB()\n",
    "objB.ans()\n"
   ]
  },
  {
   "cell_type": "code",
   "execution_count": 11,
   "metadata": {},
   "outputs": [
    {
     "name": "stdout",
     "output_type": "stream",
     "text": [
      "A Class is here...\n",
      "B Class is here...\n",
      "C Class is here...\n"
     ]
    }
   ],
   "source": [
    "# Multi_level Inheritance\n",
    "\n",
    "class A:\n",
    "    def displayA(self):\n",
    "        print(\"A Class is here...\")\n",
    "\n",
    "class B(A):\n",
    "     def displayB(self):\n",
    "        print(\"B Class is here...\")\n",
    "        \n",
    "class C(B):\n",
    "     def displayC(self):\n",
    "        print(\"C Class is here...\")\n",
    "        \n",
    "obj = C()\n",
    "obj.displayA()\n",
    "obj.displayB()\n",
    "obj.displayC()"
   ]
  },
  {
   "cell_type": "code",
   "execution_count": 9,
   "metadata": {},
   "outputs": [
    {
     "name": "stdout",
     "output_type": "stream",
     "text": [
      "RBI ROI is 8.5\n",
      "SBI ROI is 7.5\n",
      "RBI ROI is 8.5\n",
      "BOI ROI is 8.8\n"
     ]
    }
   ],
   "source": [
    "class RBI:\n",
    "    def display(self):\n",
    "        print(\"RBI ROI is 8.5\")\n",
    "        \n",
    "class SBI(RBI):\n",
    "    def display_SBI(self):\n",
    "        print(\"SBI ROI is 7.5\")\n",
    "\n",
    "class BOI(RBI):\n",
    "    def display_BOI(self):\n",
    "        print(\"BOI ROI is 8.8\")\n",
    "        \n",
    "sbi =  SBI()\n",
    "boi =  BOI()\n",
    "\n",
    "sbi.display()\n",
    "sbi.display_SBI()\n",
    "\n",
    "boi.display()\n",
    "boi.display_BOI()"
   ]
  },
  {
   "cell_type": "code",
   "execution_count": 12,
   "metadata": {},
   "outputs": [
    {
     "name": "stdout",
     "output_type": "stream",
     "text": [
      "A Class is here...\n",
      "B Class is here...\n",
      "C Class is here...\n"
     ]
    }
   ],
   "source": [
    "# hierarchical Inheritance\n",
    "\n",
    "class A:\n",
    "    def displayA(self):\n",
    "        print(\"A Class is here...\")\n",
    "\n",
    "class B:\n",
    "     def displayB(self):\n",
    "        print(\"B Class is here...\")\n",
    "        \n",
    "class C(A,B):\n",
    "    # A & B both are parent of class c\n",
    "     def displayC(self):\n",
    "        print(\"C Class is here...\")\n",
    "        \n",
    "obj = C()\n",
    "obj.displayA()\n",
    "obj.displayB()\n",
    "obj.displayC()"
   ]
  },
  {
   "cell_type": "code",
   "execution_count": null,
   "metadata": {},
   "outputs": [],
   "source": [
    "# Hybrid Inheritance\n",
    "\n",
    "class A:\n",
    "    def displayA(self):\n",
    "        print(\"A Class is here...\")\n",
    "\n",
    "class B:\n",
    "    def displayB(self):\n",
    "        print(\"B Class is here...\")\n",
    "        \n",
    "class C(A,B):\n",
    "    # A & B both are parent of class c\n",
    "    def displayC(self):\n",
    "        print(\"C Class is here...\")\n",
    "        \n",
    "obj = C()\n",
    "obj.displayA()\n",
    "obj.displayB()\n",
    "obj.displayC()"
   ]
  }
 ],
 "metadata": {
  "kernelspec": {
   "display_name": "Python 3.9.6 64-bit",
   "language": "python",
   "name": "python3"
  },
  "language_info": {
   "codemirror_mode": {
    "name": "ipython",
    "version": 3
   },
   "file_extension": ".py",
   "mimetype": "text/x-python",
   "name": "python",
   "nbconvert_exporter": "python",
   "pygments_lexer": "ipython3",
   "version": "3.9.6"
  },
  "orig_nbformat": 4,
  "vscode": {
   "interpreter": {
    "hash": "6fff98fc3b3d81bd655c2cc48858186e4d9e2db7b515bf1c3221888f12a62f87"
   }
  }
 },
 "nbformat": 4,
 "nbformat_minor": 2
}
