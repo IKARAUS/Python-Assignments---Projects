from pyparsing import javaStyleComment


class student : 
    name = "jay"
    subject = "python"
    marks = 85
    
class faculty:
    name = "sid"
    subject = "Android"
    department = "mobile department"
    
# to access properties of class need to create an object

s_obj = student()
print(s_obj.name)
print(s_obj.subject)
print(s_obj.marks)

print("--------------------------------------")
s_obj1 = faculty
print(s_obj1.name)
print(s_obj1.subject)
print(s_obj1.department)