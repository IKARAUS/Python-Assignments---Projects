{
 "cells": [
  {
   "cell_type": "code",
   "execution_count": null,
   "metadata": {},
   "outputs": [],
   "source": [
    "class student : \n",
    "    name = \"jay\"\n",
    "    subject = \"python\"\n",
    "    marks = 85\n",
    "    \n",
    "class faculty:\n",
    "    name = \"sid\"\n",
    "    subject = \"Android\"\n",
    "    department = \"mobile department\"\n",
    "    \n",
    "# to access properties of class need to create an object\n",
    "\n",
    "s_obj = student()\n",
    "print(s_obj.name)\n",
    "print(s_obj.subject)\n",
    "print(s_obj.marks)\n",
    "\n",
    "print(\"--------------------------------------\")\n",
    "s_obj1 = faculty\n",
    "print(s_obj1.name)\n",
    "print(s_obj1.subject)\n",
    "print(s_obj1.department)"
   ]
  },
  {
   "cell_type": "code",
   "execution_count": 7,
   "metadata": {},
   "outputs": [
    {
     "ename": "TypeError",
     "evalue": "all_student() missing 1 required positional argument: 'self'",
     "output_type": "error",
     "traceback": [
      "\u001b[1;31m---------------------------------------------------------------------------\u001b[0m",
      "\u001b[1;31mTypeError\u001b[0m                                 Traceback (most recent call last)",
      "\u001b[1;32mc:\\Users\\Administrator\\Desktop\\Python Project\\OOPS\\OOPS_CLASS1.ipynb Cell 2'\u001b[0m in \u001b[0;36m<cell line: 15>\u001b[1;34m()\u001b[0m\n\u001b[0;32m     <a href='vscode-notebook-cell:/c%3A/Users/Administrator/Desktop/Python%20Project/OOPS/OOPS_CLASS1.ipynb#ch0000001?line=11'>12</a>\u001b[0m                 status \u001b[39m=\u001b[39m \u001b[39mFalse\u001b[39;00m\n\u001b[0;32m     <a href='vscode-notebook-cell:/c%3A/Users/Administrator/Desktop/Python%20Project/OOPS/OOPS_CLASS1.ipynb#ch0000001?line=13'>14</a>\u001b[0m s_obj \u001b[39m=\u001b[39m student\n\u001b[1;32m---> <a href='vscode-notebook-cell:/c%3A/Users/Administrator/Desktop/Python%20Project/OOPS/OOPS_CLASS1.ipynb#ch0000001?line=14'>15</a>\u001b[0m s_obj\u001b[39m.\u001b[39;49mall_student()\n",
      "\u001b[1;31mTypeError\u001b[0m: all_student() missing 1 required positional argument: 'self'"
     ]
    }
   ],
   "source": [
    "# self is key words which is refer current class property\n",
    "class student:\n",
    "    def all_student(self):\n",
    "        student_list = []\n",
    "        \n",
    "        status = True\n",
    "        while status:\n",
    "            name = input(\"Enter student name: \")\n",
    "            student_list.append(name)\n",
    "            choice = input(\"Do you want to enter more name : press 'y' for yes and 'n' for no\")\n",
    "            if choice == 'n' or choice == 'no':\n",
    "                status = False\n",
    "                \n",
    "s_obj = student\n",
    "s_obj.all_student()"
   ]
  },
  {
   "cell_type": "code",
   "execution_count": 8,
   "metadata": {},
   "outputs": [
    {
     "name": "stdout",
     "output_type": "stream",
     "text": [
      "Positive Number\n",
      "Even\n"
     ]
    }
   ],
   "source": [
    "class PythonPro:\n",
    "    def checkPositiveNegative(self,num):\n",
    "        if num>=0:\n",
    "            print(\"Positive Number\")\n",
    "        else:\n",
    "            print(\"Negative Number\")\n",
    "    \n",
    "    def findEvenOdd(self,num):\n",
    "        if num%2==0:\n",
    "            return \"Even\"\n",
    "        else:\n",
    "            return \"Odd\"\n",
    "        \n",
    "pobj = PythonPro()\n",
    "number = int(input(\"Enter a Number: \"))\n",
    "pobj.checkPositiveNegative(number)\n",
    "print(pobj.findEvenOdd(number))"
   ]
  },
  {
   "cell_type": "code",
   "execution_count": 11,
   "metadata": {},
   "outputs": [
    {
     "name": "stdout",
     "output_type": "stream",
     "text": [
      "Hello Welcome To Python Class\n",
      "Subject = Python\n"
     ]
    }
   ],
   "source": [
    "class Student:\n",
    "    subject = \"\"\n",
    "    def __init__(self, subject):\n",
    "        print(\"Hello Welcome To Python Class\")\n",
    "        self.subject = subject\n",
    "    \n",
    "    def display(self):\n",
    "        print(\"Subject =\",self.subject)\n",
    "        \n",
    "obj = Student(\"Python\")\n",
    "obj.display()"
   ]
  },
  {
   "cell_type": "code",
   "execution_count": null,
   "metadata": {},
   "outputs": [],
   "source": []
  }
 ],
 "metadata": {
  "interpreter": {
   "hash": "6fff98fc3b3d81bd655c2cc48858186e4d9e2db7b515bf1c3221888f12a62f87"
  },
  "kernelspec": {
   "display_name": "Python 3.9.6 64-bit",
   "language": "python",
   "name": "python3"
  },
  "language_info": {
   "codemirror_mode": {
    "name": "ipython",
    "version": 3
   },
   "file_extension": ".py",
   "mimetype": "text/x-python",
   "name": "python",
   "nbconvert_exporter": "python",
   "pygments_lexer": "ipython3",
   "version": "3.9.6"
  },
  "orig_nbformat": 4
 },
 "nbformat": 4,
 "nbformat_minor": 2
}
