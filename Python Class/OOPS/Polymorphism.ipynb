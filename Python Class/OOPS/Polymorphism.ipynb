{
 "cells": [
  {
   "cell_type": "code",
   "execution_count": 1,
   "metadata": {},
   "outputs": [
    {
     "name": "stdout",
     "output_type": "stream",
     "text": [
      "4 wheels\n",
      "2 wheels\n"
     ]
    }
   ],
   "source": [
    "class Vehicle:\n",
    "    def wheels(self):\n",
    "        pass\n",
    "    \n",
    "class Car(Vehicle):\n",
    "    def wheels(self):\n",
    "        print(\"4 wheels\")\n",
    "        \n",
    "class Bike(Vehicle):\n",
    "    def wheels(self):\n",
    "        print(\"2 wheels\")\n",
    "        \n",
    "obj_car = Car()\n",
    "obj_bike = Bike()\n",
    "\n",
    "obj_car.wheels()\n",
    "obj_bike.wheels()"
   ]
  },
  {
   "cell_type": "code",
   "execution_count": 2,
   "metadata": {},
   "outputs": [
    {
     "name": "stdout",
     "output_type": "stream",
     "text": [
      "A Class here\n",
      "B Class here\n"
     ]
    }
   ],
   "source": [
    "class A:\n",
    "    def display(self):\n",
    "        print(\"A Class here\")\n",
    "        \n",
    "class B(A):\n",
    "    def display(self):\n",
    "        A.display(self)\n",
    "        print(\"B Class here\")\n",
    "\n",
    "b = B()\n",
    "b.display()"
   ]
  },
  {
   "cell_type": "code",
   "execution_count": 6,
   "metadata": {},
   "outputs": [
    {
     "name": "stdout",
     "output_type": "stream",
     "text": [
      "ROI of RBI\n",
      "ROI of SBI\n"
     ]
    }
   ],
   "source": [
    "class Bank:\n",
    "    def ROI(self):\n",
    "        pass\n",
    "    \n",
    "class RBI(Bank):\n",
    "    def ROI(self):\n",
    "        print(\"ROI of RBI\")\n",
    "    \n",
    "class SBI(Bank):\n",
    "    def ROI(self):\n",
    "        print(\"ROI of SBI\")\n",
    "        \n",
    "obj_RBI = RBI()\n",
    "obj_SBI = SBI()\n",
    "\n",
    "obj_RBI.ROI()\n",
    "obj_SBI.ROI()"
   ]
  },
  {
   "cell_type": "code",
   "execution_count": null,
   "metadata": {},
   "outputs": [],
   "source": []
  }
 ],
 "metadata": {
  "kernelspec": {
   "display_name": "Python 3.9.6 64-bit",
   "language": "python",
   "name": "python3"
  },
  "language_info": {
   "codemirror_mode": {
    "name": "ipython",
    "version": 3
   },
   "file_extension": ".py",
   "mimetype": "text/x-python",
   "name": "python",
   "nbconvert_exporter": "python",
   "pygments_lexer": "ipython3",
   "version": "3.9.6"
  },
  "orig_nbformat": 4,
  "vscode": {
   "interpreter": {
    "hash": "6fff98fc3b3d81bd655c2cc48858186e4d9e2db7b515bf1c3221888f12a62f87"
   }
  }
 },
 "nbformat": 4,
 "nbformat_minor": 2
}
