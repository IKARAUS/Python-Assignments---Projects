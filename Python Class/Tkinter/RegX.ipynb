{
 "cells": [
  {
   "cell_type": "code",
   "execution_count": 4,
   "metadata": {},
   "outputs": [
    {
     "name": "stdout",
     "output_type": "stream",
     "text": [
      "['20', '34', '56', '30']\n",
      "['Jay', 'Navin', 'Deep', 'Ram']\n",
      "{'Jay': '20', 'Navin': '34', 'Deep': '56', 'Ram': '30'}\n"
     ]
    }
   ],
   "source": [
    "# A regular expression is a special sequence of characters that helps you match or find other strings or sets of strings, using a strings, using a specialized syntax held in a pattern.\n",
    "\n",
    "import re\n",
    "\n",
    "data = \"\"\" Jay is 20, Navin is 34, Deep is 56, Ram is 30\n",
    "\"\"\"\n",
    "\n",
    "age = re.findall(r'\\d{1,3}',data)\n",
    "names = re.findall(r\"[A-Z][a-z]*\",data)\n",
    "\n",
    "print(age)\n",
    "print(names)\n",
    "\n",
    "d = {}\n",
    "count= 0\n",
    "\n",
    "for n in names:\n",
    "    d[n] = age[count]\n",
    "    count+=1\n",
    "    \n",
    "print(d)"
   ]
  },
  {
   "cell_type": "code",
   "execution_count": 6,
   "metadata": {},
   "outputs": [
    {
     "name": "stdout",
     "output_type": "stream",
     "text": [
      "['12', '34', '34']\n"
     ]
    }
   ],
   "source": [
    "import re\n",
    "\n",
    "data = \"12,34, adad 34\"\n",
    "\n",
    "print(re.findall(r'\\d',data))        #{1,3}"
   ]
  },
  {
   "cell_type": "code",
   "execution_count": 7,
   "metadata": {},
   "outputs": [
    {
     "name": "stdout",
     "output_type": "stream",
     "text": [
      "exist\n"
     ]
    }
   ],
   "source": [
    "import re\n",
    "\n",
    "if re.search(\"good\",\"Python is a good programming language\"):\n",
    "    print(\"exist\")\n",
    "else:\n",
    "    print(\"not available\")    \n"
   ]
  },
  {
   "cell_type": "code",
   "execution_count": 9,
   "metadata": {},
   "outputs": [
    {
     "name": "stdout",
     "output_type": "stream",
     "text": [
      "<re.Match object; span=(12, 16), match='good'>\n"
     ]
    }
   ],
   "source": [
    "import re\n",
    "\n",
    "print(re.search(\"good\",\"Python is a good programming language\"))"
   ]
  },
  {
   "cell_type": "code",
   "execution_count": 10,
   "metadata": {},
   "outputs": [
    {
     "name": "stdout",
     "output_type": "stream",
     "text": [
      "(12, 16)\n"
     ]
    }
   ],
   "source": [
    "import re\n",
    "\n",
    "name = \"Python is a good programming language\"\n",
    "\n",
    "for i in re.finditer(\"good\",name):\n",
    "    ans = i.span()\n",
    "    print(ans)"
   ]
  },
  {
   "cell_type": "code",
   "execution_count": 11,
   "metadata": {},
   "outputs": [
    {
     "name": "stdout",
     "output_type": "stream",
     "text": [
      "None\n",
      "<re.Match object; span=(12, 16), match='good'>\n"
     ]
    }
   ],
   "source": [
    "import re\n",
    "\n",
    "name = \"Python is a good programming language\"\n",
    "\n",
    "print(re.match(\"good\",name))\n",
    "print(re.search(\"good\",name))\n"
   ]
  },
  {
   "cell_type": "code",
   "execution_count": 13,
   "metadata": {},
   "outputs": [
    {
     "name": "stdout",
     "output_type": "stream",
     "text": [
      "733-9928-722 \n",
      "7339928722\n"
     ]
    }
   ],
   "source": [
    "import re\n",
    "\n",
    "data=\"733-9928-722 % hello this is comment\"\n",
    "\n",
    "new_data = re.sub(r'%.*$', \"\", data)\n",
    "print(new_data)\n",
    "\n",
    "num = re.sub(r'\\D',\"\",data)\n",
    "print(num)"
   ]
  }
 ],
 "metadata": {
  "kernelspec": {
   "display_name": "Python 3.9.6 64-bit",
   "language": "python",
   "name": "python3"
  },
  "language_info": {
   "codemirror_mode": {
    "name": "ipython",
    "version": 3
   },
   "file_extension": ".py",
   "mimetype": "text/x-python",
   "name": "python",
   "nbconvert_exporter": "python",
   "pygments_lexer": "ipython3",
   "version": "3.9.6"
  },
  "orig_nbformat": 4,
  "vscode": {
   "interpreter": {
    "hash": "6fff98fc3b3d81bd655c2cc48858186e4d9e2db7b515bf1c3221888f12a62f87"
   }
  }
 },
 "nbformat": 4,
 "nbformat_minor": 2
}
