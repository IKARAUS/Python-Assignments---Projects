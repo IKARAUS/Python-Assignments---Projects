{
 "cells": [
  {
   "cell_type": "code",
   "execution_count": 14,
   "metadata": {},
   "outputs": [],
   "source": [
    "from tkinter import *\n",
    "\n",
    "screen = Tk()\n",
    "screen.title(\"MY APP\")\n",
    "screen.geometry(\"500x500\")\n",
    "\n",
    "lbl = Label(screen,text=\"HELLO WORLD\")\n",
    "# pack or place or grid\n",
    "\n",
    "lbl.pack(side = \"right\")\n",
    "screen.mainloop()"
   ]
  },
  {
   "cell_type": "code",
   "execution_count": 16,
   "metadata": {},
   "outputs": [],
   "source": [
    "from tkinter import *\n",
    "\n",
    "screen = Tk()\n",
    "screen.title(\"MY APP\")\n",
    "screen.geometry(\"500x500\")\n",
    "\n",
    "lbl = Label(screen,text=\"HELLO WORLD\",font=(\"Arial\",26,\"bold\"),bg=\"blue\",fg=\"white\")\n",
    "# pack or place or grid\n",
    "\n",
    "lbl.place(x=10,y=10)\n",
    "screen.mainloop()"
   ]
  },
  {
   "cell_type": "code",
   "execution_count": 21,
   "metadata": {},
   "outputs": [],
   "source": [
    "from tkinter import *\n",
    "\n",
    "screen = Tk()\n",
    "screen.title(\"MY APP\")\n",
    "screen.geometry(\"500x500\")\n",
    "\n",
    "btn = Button(screen,text=\"Click Here\",font=(\"Arial\",24,\"bold\"),bg=\"blue\",fg=\"white\",activebackground=\"black\",activeforeground=\"white\")\n",
    "\n",
    "btn.place(x=10,y=20)\n",
    "\n",
    "screen.mainloop()"
   ]
  },
  {
   "cell_type": "code",
   "execution_count": 22,
   "metadata": {},
   "outputs": [
    {
     "name": "stdout",
     "output_type": "stream",
     "text": [
      "WELCOME TO TKINTER...\n",
      "WELCOME TO TKINTER...\n",
      "WELCOME TO TKINTER...\n",
      "WELCOME TO TKINTER...\n"
     ]
    }
   ],
   "source": [
    "from tkinter import *\n",
    "\n",
    "screen = Tk()\n",
    "screen.title(\"MY APP\")\n",
    "screen.geometry(\"500x500\")\n",
    "\n",
    "def myfun():\n",
    "    print(\"WELCOME TO TKINTER...\")\n",
    "\n",
    "btn = Button(screen,text=\"Click Here\",font=(\"Arial\",24,\"bold\"),command=myfun,bg=\"blue\",fg=\"white\",activebackground=\"black\",activeforeground=\"white\")\n",
    "\n",
    "btn.place(x=10,y=20)\n",
    "\n",
    "screen.mainloop()"
   ]
  },
  {
   "cell_type": "code",
   "execution_count": 1,
   "metadata": {},
   "outputs": [],
   "source": [
    "from tkinter import *\n",
    "\n",
    "screen = Tk()\n",
    "screen.title(\"MY APP\")\n",
    "screen.geometry(\"500x500\")\n",
    "\n",
    "mylbl_var = StringVar()\n",
    "\n",
    "def myfun():\n",
    "    # print(\"WELCOME TO TKINTER...\")\n",
    "    mylbl_var.set(\"WELCOME TO TKINTER\")\n",
    "    \n",
    "btn = Button(screen,text=\"Click Here\",font=(\"Arial\",24,\"bold\"),command=myfun,bg=\"blue\",fg=\"white\",activebackground=\"black\",activeforeground=\"white\")\n",
    "btn.place(x=10,y=20)\n",
    "\n",
    "lbl = Label(screen,textvariable=mylbl_var)\n",
    "lbl.place(x=20,y=100)\n",
    "\n",
    "screen.mainloop()"
   ]
  },
  {
   "cell_type": "code",
   "execution_count": null,
   "metadata": {},
   "outputs": [],
   "source": [
    "from tkinter import *\n",
    "\n",
    "screen = Tk()\n",
    "\n",
    "var_count = IntVar()\n",
    "count = 0\n",
    "\n",
    "def counter(msg):\n",
    "    global count\n",
    "    if msg==\"add\":\n",
    "        count+=1\n",
    "    else:\n",
    "        count-=1\n",
    "    var_count.set(count)\n",
    "    \n",
    "screen.title(\"WELCOME TO COUNTER APP\")\n",
    "screen.geometry(\"350x350\")\n",
    "\n",
    "btn = Button(screen, text=\"+\",command=lambda :counter(\"add\"),font=(\"Arial\",20,\"bold\"))\n",
    "btn.place(x=10,y=20)\n",
    "\n",
    "lbl = Label(screen, textvariable=var_count,font=(\"Arial\",20,\"bold\"))\n",
    "lbl.place(x=80,y=30)\n",
    "\n",
    "btn = Button(screen, text=\"-\",command=lambda :counter(\"minus\"),font=(\"Arial\",20,\"bold\"))\n",
    "btn.place(x=120,y=20)\n",
    "\n",
    "screen.mainloop()"
   ]
  },
  {
   "cell_type": "code",
   "execution_count": null,
   "metadata": {},
   "outputs": [],
   "source": []
  }
 ],
 "metadata": {
  "kernelspec": {
   "display_name": "Python 3.9.6 64-bit",
   "language": "python",
   "name": "python3"
  },
  "language_info": {
   "codemirror_mode": {
    "name": "ipython",
    "version": 3
   },
   "file_extension": ".py",
   "mimetype": "text/x-python",
   "name": "python",
   "nbconvert_exporter": "python",
   "pygments_lexer": "ipython3",
   "version": "3.9.6"
  },
  "orig_nbformat": 4,
  "vscode": {
   "interpreter": {
    "hash": "6fff98fc3b3d81bd655c2cc48858186e4d9e2db7b515bf1c3221888f12a62f87"
   }
  }
 },
 "nbformat": 4,
 "nbformat_minor": 2
}
