{
 "cells": [
  {
   "cell_type": "code",
   "execution_count": 5,
   "metadata": {},
   "outputs": [
    {
     "name": "stdout",
     "output_type": "stream",
     "text": [
      "Hello, My name is Jay and i completed my graduation from RTU university in b.tech with 72 percentage. Do you love sports = True\n"
     ]
    }
   ],
   "source": [
    "name = \"Jay\"\n",
    "college = \"RTU\"\n",
    "course = \"b.tech\"\n",
    "marks = 72\n",
    "doyoulovesports = True\n",
    "print(\"Hello, My name is \" + name + \" and i completed my graduation from \" + str(college) + \" university\" + \" in \" + str(course) + \" with \" + str(marks) + \" percentage.\" + \" Do you love sports = \" + str(doyoulovesports))"
   ]
  },
  {
   "cell_type": "code",
   "execution_count": 2,
   "metadata": {},
   "outputs": [
    {
     "name": "stdout",
     "output_type": "stream",
     "text": [
      "Student name is DhavalIn course b.com. his second year obtained marks are 75.2 percentage. Is his fee due or not = True\n"
     ]
    }
   ],
   "source": [
    "name = \"Dhaval\"\n",
    "course = \"b.com\"\n",
    "secondyearmarks = 75.20\n",
    "duefee = True\n",
    "print(\"Student name is \" + name + \" In course \" + str(course)+ \". his second year obtained marks are \" + str(secondyearmarks) + \" percentage\" + \". Is his fee due or not = \" + str(duefee))"
   ]
  },
  {
   "cell_type": "code",
   "execution_count": 3,
   "metadata": {},
   "outputs": [
    {
     "name": "stdout",
     "output_type": "stream",
     "text": [
      "Player Name is Mahi. His age is 40Year. His ICC rank is 20. He is earning 220.5Cr Per Year.Is he playing Cricket = True\n"
     ]
    }
   ],
   "source": [
    "name = \"Mahi\"\n",
    "age = 40\n",
    "rank = 20\n",
    "earning = 220.50\n",
    "isheplayingcricket = True\n",
    "print(\"Player Name is \" + name + \". His age is \" + str(age) + \"Year\" + \". His ICC rank is \" + str(rank)+ \". He is earning \" + str(earning) + \"Cr\" + \" Per Year.\" + \"Is he playing Cricket = \" + str(isheplayingcricket))"
   ]
  },
  {
   "cell_type": "code",
   "execution_count": 3,
   "metadata": {},
   "outputs": [
    {
     "name": "stdout",
     "output_type": "stream",
     "text": [
      "I am Introducing an institute for IT Career and it's name is TOPS Infosolutions. The institute is located near CG Road. Timing of institute is from morning 9-7 in the evening. The networth of institute is 50 Lacs Per month.They also provide all courses = True.\n"
     ]
    }
   ],
   "source": [
    "institutename = \"TOPS Infosolutions\"\n",
    "location = \"CG Road\"\n",
    "timing = \"9-7\"\n",
    "networth = 50\n",
    "courses = True\n",
    "print(\"I am Introducing an institute for IT Career and it's name is \" + institutename + \". The institute is located near \" + location + \". Timing of institute is from morning \" + timing + \" in the evening. \" + \"The networth of institute is \" + str(networth) + \" Lacs Per month.\" + \"They also provide all courses = \" + str(courses)+ \".\")"
   ]
  },
  {
   "cell_type": "code",
   "execution_count": null,
   "metadata": {},
   "outputs": [],
   "source": []
  }
 ],
 "metadata": {
  "interpreter": {
   "hash": "11f1dc213e07634baa4c5c321dec03c05dafae643c50f20e6d1a492290c05dc2"
  },
  "kernelspec": {
   "display_name": "Python 3.9.6 64-bit",
   "language": "python",
   "name": "python3"
  },
  "language_info": {
   "codemirror_mode": {
    "name": "ipython",
    "version": 3
   },
   "file_extension": ".py",
   "mimetype": "text/x-python",
   "name": "python",
   "nbconvert_exporter": "python",
   "pygments_lexer": "ipython3",
   "version": "3.9.6"
  },
  "orig_nbformat": 4
 },
 "nbformat": 4,
 "nbformat_minor": 2
}
