{
 "cells": [
  {
   "cell_type": "markdown",
   "metadata": {},
   "source": [
    "1 while loops\n",
    "2\n",
    "3\n",
    "4\n",
    "5 Control Statements\n",
    "      - Break\n",
    "      - Continue\n",
    "      - Pass\n"
   ]
  },
  {
   "cell_type": "code",
   "execution_count": 8,
   "metadata": {},
   "outputs": [
    {
     "name": "stdout",
     "output_type": "stream",
     "text": [
      "Encoded message\n"
     ]
    }
   ],
   "source": [
    "def encode(message):\n",
    "    count = 0\n",
    "    character = ''\n",
    "    previous_char = message[0]\n",
    "    result = ''\n",
    "    length = len(message)\n",
    "    \n",
    "    i = 0\n",
    "    while(i != length):\n",
    "        character = message[i]\n",
    "        \n",
    "        if previous_char == character:\n",
    "            count = count+1\n",
    "            \n",
    "        else:\n",
    "            result = result + str(count) + previous_char\n",
    "            count = 1\n",
    "\n",
    "        previous_char = character\n",
    "        i = i+1\n",
    "        \n",
    "    return result + str(count) + str(previous_char)\n",
    "encoded_message = encode(\"aaabbbcccdddeee\")\n",
    "print(\"Encoded message\")"
   ]
  },
  {
   "cell_type": "code",
   "execution_count": 3,
   "metadata": {},
   "outputs": [
    {
     "name": "stdout",
     "output_type": "stream",
     "text": [
      "(2)1(1)2(3)a(1)s(1)w(1)e(2)2(2)3(4)4(2)r"
     ]
    }
   ],
   "source": [
    "a = \"112aaaswe22334444rr\"\n",
    "# a = \"aaabbbcccdddeee\"\n",
    "\n",
    "counter = 0\n",
    "temp = a[0]\n",
    "for i in a:\n",
    "    if i == temp:\n",
    "        counter += 1\n",
    "    else:\n",
    "        print(f\"({counter}){temp}\", end= \"\")\n",
    "        counter = 1\n",
    "        temp = i\n",
    "print(f\"({counter}){temp}\", end= \"\")"
   ]
  },
  {
   "cell_type": "code",
   "execution_count": null,
   "metadata": {},
   "outputs": [],
   "source": []
  }
 ],
 "metadata": {
  "interpreter": {
   "hash": "11f1dc213e07634baa4c5c321dec03c05dafae643c50f20e6d1a492290c05dc2"
  },
  "kernelspec": {
   "display_name": "Python 3.9.6 64-bit",
   "language": "python",
   "name": "python3"
  },
  "language_info": {
   "codemirror_mode": {
    "name": "ipython",
    "version": 3
   },
   "file_extension": ".py",
   "mimetype": "text/x-python",
   "name": "python",
   "nbconvert_exporter": "python",
   "pygments_lexer": "ipython3",
   "version": "3.9.6"
  },
  "orig_nbformat": 4
 },
 "nbformat": 4,
 "nbformat_minor": 2
}
