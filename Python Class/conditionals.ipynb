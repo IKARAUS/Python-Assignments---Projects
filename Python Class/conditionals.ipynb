{
 "cells": [
  {
   "cell_type": "code",
   "execution_count": null,
   "metadata": {},
   "outputs": [],
   "source": []
  },
  {
   "cell_type": "code",
   "execution_count": null,
   "metadata": {},
   "outputs": [],
   "source": []
  },
  {
   "cell_type": "code",
   "execution_count": null,
   "metadata": {},
   "outputs": [],
   "source": []
  },
  {
   "cell_type": "code",
   "execution_count": null,
   "metadata": {},
   "outputs": [],
   "source": []
  },
  {
   "cell_type": "code",
   "execution_count": null,
   "metadata": {},
   "outputs": [],
   "source": []
  },
  {
   "cell_type": "code",
   "execution_count": null,
   "metadata": {},
   "outputs": [],
   "source": []
  },
  {
   "cell_type": "code",
   "execution_count": null,
   "metadata": {},
   "outputs": [],
   "source": []
  },
  {
   "cell_type": "code",
   "execution_count": null,
   "metadata": {},
   "outputs": [],
   "source": []
  },
  {
   "cell_type": "markdown",
   "metadata": {},
   "source": [
    "conditionals matlab... aagar magar valse statements....\n",
    "\n",
    "if condition:\n",
    "    do something...\n",
    "elif condition:\n",
    "    do something...\n",
    "elif condition_1:\n",
    "    do something...\n",
    "elif condition_2:\n",
    "    do something...\n",
    "elif condition_3:\n",
    "    do something...\n",
    "else:\n",
    "    kuch bhi kr le abhi bhai tu...."
   ]
  },
  {
   "cell_type": "code",
   "execution_count": 23,
   "metadata": {},
   "outputs": [],
   "source": [
    "# name = input(\"Please enter your name : \")\n",
    "age = input(\"Please enter your age : \")"
   ]
  },
  {
   "cell_type": "code",
   "execution_count": 12,
   "metadata": {},
   "outputs": [
    {
     "name": "stdout",
     "output_type": "stream",
     "text": [
      "Papa Mummy ko bolna modi ko vote de bhai...\n"
     ]
    }
   ],
   "source": [
    "if int(age) < 2:\n",
    "    print(\"Bbhai aapke charan kidhar hai...?\")\n",
    "elif int(age) > 18:\n",
    "    print(\"Abb ki baar modi sarkar... Modi ne j vote de j lya....\")\n",
    "else:\n",
    "    print(\"Papa Mummy ko bolna modi ko vote de bhai...\")"
   ]
  },
  {
   "cell_type": "code",
   "execution_count": 14,
   "metadata": {},
   "outputs": [],
   "source": [
    "if int(age) > 18:\n",
    "    print(\"Abb ki baar modi sarkar... Modi ne j vote de j lya....\")"
   ]
  },
  {
   "cell_type": "code",
   "execution_count": 8,
   "metadata": {},
   "outputs": [
    {
     "data": {
      "text/plain": [
       "'1'"
      ]
     },
     "execution_count": 8,
     "metadata": {},
     "output_type": "execute_result"
    }
   ],
   "source": [
    "age"
   ]
  },
  {
   "cell_type": "code",
   "execution_count": 13,
   "metadata": {},
   "outputs": [
    {
     "name": "stdout",
     "output_type": "stream",
     "text": [
      "Papa Mummy ko bolna modi ko vote de bhai...\n"
     ]
    }
   ],
   "source": [
    "if int(age) > 2:\n",
    "    if int(age) > 18:\n",
    "        print(\"Abb ki baar modi sarkar... Modi ne j vote de j lya....\")\n",
    "    else:\n",
    "        print(\"Papa Mummy ko bolna modi ko vote de bhai...\")\n",
    "else:\n",
    "    print(\"Bbhai aapke charan kidhar hai...?\")"
   ]
  },
  {
   "cell_type": "markdown",
   "metadata": {},
   "source": [
    "and / or"
   ]
  },
  {
   "cell_type": "code",
   "execution_count": 24,
   "metadata": {},
   "outputs": [
    {
     "name": "stdout",
     "output_type": "stream",
     "text": [
      "Age is 12\n"
     ]
    }
   ],
   "source": [
    "if int(age) > 2 or int(age) < 18:\n",
    "    print(f\"Age is {age}\")\n",
    "else:\n",
    "    print(f\"Ageeeeeeeeeeeeeeeeeeeee is {age}\")"
   ]
  },
  {
   "cell_type": "code",
   "execution_count": null,
   "metadata": {},
   "outputs": [],
   "source": []
  },
  {
   "cell_type": "code",
   "execution_count": null,
   "metadata": {},
   "outputs": [],
   "source": []
  }
 ],
 "metadata": {
  "interpreter": {
   "hash": "3410afedb74081d81603511028deadddc25ba0f01c14e0cb891e2c2473f81884"
  },
  "kernelspec": {
   "display_name": "Python 3.8.8 64-bit",
   "language": "python",
   "name": "python3"
  },
  "language_info": {
   "codemirror_mode": {
    "name": "ipython",
    "version": 3
   },
   "file_extension": ".py",
   "mimetype": "text/x-python",
   "name": "python",
   "nbconvert_exporter": "python",
   "pygments_lexer": "ipython3",
   "version": "3.8.8"
  },
  "orig_nbformat": 4
 },
 "nbformat": 4,
 "nbformat_minor": 2
}
