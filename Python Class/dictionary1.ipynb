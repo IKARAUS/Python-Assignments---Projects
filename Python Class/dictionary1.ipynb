{
 "cells": [
  {
   "cell_type": "markdown",
   "metadata": {},
   "source": [
    "dictionary is collection of data type\n",
    "\n",
    "which os contain key and values in pair\n",
    "dictionary which is represented by{}"
   ]
  },
  {
   "cell_type": "code",
   "execution_count": 1,
   "metadata": {},
   "outputs": [
    {
     "name": "stdout",
     "output_type": "stream",
     "text": [
      "{'name': 'Jay', 'subject': 'Python', 'marks': 89}\n",
      "name = Jay\n",
      "subject = Python\n",
      "marks = 89\n"
     ]
    }
   ],
   "source": [
    "Student = {\n",
    "    \"name\" : \"Jay\",\n",
    "    \"subject\" : \"Python\",\n",
    "    \"marks\" : 89,\n",
    "}\n",
    "\n",
    "print(Student)\n",
    "\n",
    "for k,v in Student.items():\n",
    "    print(f\"{k} = {v}\")"
   ]
  },
  {
   "cell_type": "code",
   "execution_count": 2,
   "metadata": {},
   "outputs": [
    {
     "name": "stdout",
     "output_type": "stream",
     "text": [
      "Python\n",
      "89\n"
     ]
    },
    {
     "data": {
      "text/plain": [
       "'Jay'"
      ]
     },
     "execution_count": 2,
     "metadata": {},
     "output_type": "execute_result"
    }
   ],
   "source": [
    "print(Student[\"subject\"])\n",
    "print(Student[\"marks\"])\n",
    "Student.get(\"name\")\n"
   ]
  },
  {
   "cell_type": "code",
   "execution_count": 4,
   "metadata": {},
   "outputs": [
    {
     "name": "stdout",
     "output_type": "stream",
     "text": [
      "name\n",
      "subject\n",
      "marks\n"
     ]
    }
   ],
   "source": [
    "for key in Student.keys():\n",
    "    print(key)"
   ]
  },
  {
   "cell_type": "code",
   "execution_count": 5,
   "metadata": {},
   "outputs": [
    {
     "name": "stdout",
     "output_type": "stream",
     "text": [
      "Jay\n",
      "Python\n",
      "89\n"
     ]
    }
   ],
   "source": [
    "for value in Student.values():\n",
    "    print(value)"
   ]
  },
  {
   "cell_type": "markdown",
   "metadata": {},
   "source": [
    "nested dictionary"
   ]
  },
  {
   "cell_type": "code",
   "execution_count": 2,
   "metadata": {},
   "outputs": [
    {
     "name": "stderr",
     "output_type": "stream",
     "text": [
      "<>:12: SyntaxWarning: 'int' object is not subscriptable; perhaps you missed a comma?\n",
      "<>:12: SyntaxWarning: 'int' object is not subscriptable; perhaps you missed a comma?\n",
      "C:\\Users\\Administrator\\AppData\\Local\\Temp\\ipykernel_8956\\4202808960.py:12: SyntaxWarning: 'int' object is not subscriptable; perhaps you missed a comma?\n",
      "  for i in Quiz[1 [\"que\"]]:\n",
      "C:\\Users\\Administrator\\AppData\\Local\\Temp\\ipykernel_8956\\4202808960.py:12: SyntaxWarning: 'int' object is not subscriptable; perhaps you missed a comma?\n",
      "  for i in Quiz[1 [\"que\"]]:\n",
      "C:\\Users\\Administrator\\AppData\\Local\\Temp\\ipykernel_8956\\4202808960.py:12: SyntaxWarning: 'int' object is not subscriptable; perhaps you missed a comma?\n",
      "  for i in Quiz[1 [\"que\"]]:\n",
      "C:\\Users\\Administrator\\AppData\\Local\\Temp\\ipykernel_8956\\4202808960.py:12: SyntaxWarning: 'int' object is not subscriptable; perhaps you missed a comma?\n",
      "  for i in Quiz[1 [\"que\"]]:\n"
     ]
    },
    {
     "ename": "TypeError",
     "evalue": "'int' object is not subscriptable",
     "output_type": "error",
     "traceback": [
      "\u001b[1;31m---------------------------------------------------------------------------\u001b[0m",
      "\u001b[1;31mTypeError\u001b[0m                                 Traceback (most recent call last)",
      "\u001b[1;32mc:\\Users\\Administrator\\Desktop\\Python Project\\dictionary1.ipynb Cell 7'\u001b[0m in \u001b[0;36m<cell line: 12>\u001b[1;34m()\u001b[0m\n\u001b[0;32m      <a href='vscode-notebook-cell:/c%3A/Users/Administrator/Desktop/Python%20Project/dictionary1.ipynb#ch0000006?line=0'>1</a>\u001b[0m Quiz \u001b[39m=\u001b[39m {\n\u001b[0;32m      <a href='vscode-notebook-cell:/c%3A/Users/Administrator/Desktop/Python%20Project/dictionary1.ipynb#ch0000006?line=1'>2</a>\u001b[0m     \u001b[39m1\u001b[39m : {\n\u001b[0;32m      <a href='vscode-notebook-cell:/c%3A/Users/Administrator/Desktop/Python%20Project/dictionary1.ipynb#ch0000006?line=2'>3</a>\u001b[0m         \u001b[39m\"\u001b[39m\u001b[39mque\u001b[39m\u001b[39m\"\u001b[39m : \u001b[39m\"\u001b[39m\u001b[39m1) Most popular programming language\u001b[39m\u001b[39m\"\u001b[39m,\n\u001b[1;32m   (...)\u001b[0m\n\u001b[0;32m      <a href='vscode-notebook-cell:/c%3A/Users/Administrator/Desktop/Python%20Project/dictionary1.ipynb#ch0000006?line=8'>9</a>\u001b[0m     },\n\u001b[0;32m     <a href='vscode-notebook-cell:/c%3A/Users/Administrator/Desktop/Python%20Project/dictionary1.ipynb#ch0000006?line=9'>10</a>\u001b[0m }\n\u001b[1;32m---> <a href='vscode-notebook-cell:/c%3A/Users/Administrator/Desktop/Python%20Project/dictionary1.ipynb#ch0000006?line=11'>12</a>\u001b[0m \u001b[39mfor\u001b[39;00m i \u001b[39min\u001b[39;00m Quiz[\u001b[39m1\u001b[39;49m [\u001b[39m\"\u001b[39;49m\u001b[39mque\u001b[39;49m\u001b[39m\"\u001b[39;49m]]:\n\u001b[0;32m     <a href='vscode-notebook-cell:/c%3A/Users/Administrator/Desktop/Python%20Project/dictionary1.ipynb#ch0000006?line=12'>13</a>\u001b[0m     \u001b[39mprint\u001b[39m(Quiz[\u001b[39m1\u001b[39m][\u001b[39m\"\u001b[39m\u001b[39mque\u001b[39m\u001b[39m\"\u001b[39m])\n\u001b[0;32m     <a href='vscode-notebook-cell:/c%3A/Users/Administrator/Desktop/Python%20Project/dictionary1.ipynb#ch0000006?line=13'>14</a>\u001b[0m     ans \u001b[39m=\u001b[39m \u001b[39minput\u001b[39m(\u001b[39m\"\u001b[39m\u001b[39mEnter your ans : \u001b[39m\u001b[39m\"\u001b[39m)\u001b[39m.\u001b[39mlower()\n",
      "\u001b[1;31mTypeError\u001b[0m: 'int' object is not subscriptable"
     ]
    }
   ],
   "source": [
    "Quiz = {\n",
    "    1 : {\n",
    "        \"que\" : \"1) Most popular programming language\",\n",
    "        \"ans\" : input(\"a. java \\nb. .net \\nc. python \\nAnswer: \"),\n",
    "    },\n",
    "    2 : {\n",
    "        \"que\" : \"2)Prime Minister of India\",\n",
    "        \"ans\" : input(\"a. jawahar lal nehru \\nb. narendra modi \\nc. amit shah \\nAnswer: \"),\n",
    "    },\n",
    "}\n",
    "\n",
    "for i in Quiz[1 [\"que\"]]:\n",
    "    print(Quiz[1][\"que\"])\n",
    "    ans = input(\"Enter your ans : \").lower()\n",
    "    if ans == \"c\" or ans == \"python\":\n",
    "        print(\"Correct Answer..!!\")\n",
    "    else:\n",
    "        print(\"Incorrect Answer\")\n"
   ]
  },
  {
   "cell_type": "code",
   "execution_count": 8,
   "metadata": {},
   "outputs": [
    {
     "ename": "SyntaxError",
     "evalue": "invalid syntax (121732078.py, line 10)",
     "output_type": "error",
     "traceback": [
      "\u001b[1;36m  Input \u001b[1;32mIn [8]\u001b[1;36m\u001b[0m\n\u001b[1;33m    \"q2\" : \"\"\"Who is the current prime minister of india ?\u001b[0m\n\u001b[1;37m         ^\u001b[0m\n\u001b[1;31mSyntaxError\u001b[0m\u001b[1;31m:\u001b[0m invalid syntax\n"
     ]
    }
   ],
   "source": [
    "Quiz : {\n",
    "    1 : {\n",
    "            \"q1\" : \"\"\"Which is the most popular programming language ?\n",
    "                a. Java\n",
    "                b. Python\n",
    "                c. C\n",
    "                d. none\"\"\"\n",
    "    #     },\n",
    "    # 2 : {\n",
    "            \"q2\" : \"\"\"Who is the current prime minister of india ?\n",
    "                a. Narendra modi\n",
    "                b. Jawahar lal nehru\n",
    "                c. Amit shah\n",
    "                d. none\"\"\"\n",
    "        },\n",
    "}\n",
    "    \n",
    "question = {q1: \"b\", q2 : \"a\"}\n",
    "\n",
    "for i in question:\n",
    "    print(i)\n",
    "    ans = input(\"Submit your answer : \")\n",
    "    if ans == question[i]:\n",
    "        print(\"Right Answer\")\n",
    "    else:\n",
    "        print(\"Wrong Answer\")\n",
    "\n",
    "print(\"Quiz is Complete...!!!\")"
   ]
  },
  {
   "cell_type": "code",
   "execution_count": null,
   "metadata": {},
   "outputs": [],
   "source": []
  }
 ],
 "metadata": {
  "interpreter": {
   "hash": "6fff98fc3b3d81bd655c2cc48858186e4d9e2db7b515bf1c3221888f12a62f87"
  },
  "kernelspec": {
   "display_name": "Python 3.9.6 64-bit",
   "language": "python",
   "name": "python3"
  },
  "language_info": {
   "codemirror_mode": {
    "name": "ipython",
    "version": 3
   },
   "file_extension": ".py",
   "mimetype": "text/x-python",
   "name": "python",
   "nbconvert_exporter": "python",
   "pygments_lexer": "ipython3",
   "version": "3.9.6"
  },
  "orig_nbformat": 4
 },
 "nbformat": 4,
 "nbformat_minor": 2
}
