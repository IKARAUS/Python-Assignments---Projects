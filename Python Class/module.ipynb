{
 "cells": [
  {
   "cell_type": "code",
   "execution_count": 6,
   "metadata": {},
   "outputs": [
    {
     "name": "stdout",
     "output_type": "stream",
     "text": [
      "2022-05-28 15:29:54.019790\n",
      "2022-05-28\n",
      "28\n",
      "5\n",
      "2022\n",
      "Saturday\n",
      "Sat\n",
      "May\n"
     ]
    }
   ],
   "source": [
    "import datetime\n",
    "\n",
    "d = datetime.datetime.now()\n",
    "\n",
    "print(d)\n",
    "\n",
    "print(d.date())\n",
    "print(d.day)\n",
    "print(d.month)\n",
    "print(d.year)\n",
    "\n",
    "print(d.strftime(\"%A\"))\n",
    "print(d.strftime(\"%a\"))\n",
    "print(d.strftime(\"%B\"))\n",
    "\n"
   ]
  },
  {
   "cell_type": "code",
   "execution_count": 8,
   "metadata": {},
   "outputs": [
    {
     "name": "stdout",
     "output_type": "stream",
     "text": [
      "Hello\n",
      "hii\n"
     ]
    }
   ],
   "source": [
    "import os\n",
    "\n",
    "print(\"Hello\")\n",
    "os.system(\"cls\")\n",
    "print(\"hii\")"
   ]
  },
  {
   "cell_type": "code",
   "execution_count": 10,
   "metadata": {},
   "outputs": [
    {
     "name": "stdout",
     "output_type": "stream",
     "text": [
      "Your name is  jay\n"
     ]
    }
   ],
   "source": [
    "import os\n",
    "\n",
    "name = input(\"Enter your name: \")\n",
    "# os.system(\"cls\")\n",
    "print(\"Your name is \", name)"
   ]
  },
  {
   "cell_type": "code",
   "execution_count": 15,
   "metadata": {},
   "outputs": [
    {
     "name": "stdout",
     "output_type": "stream",
     "text": [
      "10.0.19044\n",
      "Windows-10-10.0.19044-SP0\n",
      "Windows\n",
      "Intel64 Family 6 Model 61 Stepping 4, GenuineIntel\n"
     ]
    }
   ],
   "source": [
    "import platform\n",
    "\n",
    "print(platform.version())\n",
    "print(platform.platform())\n",
    "print(platform.system())\n",
    "print(platform.processor())\n"
   ]
  },
  {
   "cell_type": "code",
   "execution_count": 21,
   "metadata": {},
   "outputs": [
    {
     "name": "stdout",
     "output_type": "stream",
     "text": [
      "83\n",
      "c\n",
      "['pratibha', 'jay', 'siddharth', 'deep', 'anal', 'navin']\n"
     ]
    }
   ],
   "source": [
    "import random\n",
    "\n",
    "num = random.randint(1,100)\n",
    "print(num)\n",
    "\n",
    "subject_list = [\"c\", \"Java\", \"python\", \"Android\"]\n",
    "print(random.choice(subject_list))\n",
    "\n",
    "student_list = [\"anal\", \"siddharth\", \"navin\", \"jay\", \"pratibha\", \"deep\"]\n",
    "# print(student_list)\n",
    "random.shuffle(student_list)\n",
    "print(student_list)\n",
    "\n"
   ]
  },
  {
   "cell_type": "code",
   "execution_count": null,
   "metadata": {},
   "outputs": [],
   "source": [
    "name = \"jay\"\n",
    "print(name.center)"
   ]
  }
 ],
 "metadata": {
  "interpreter": {
   "hash": "6fff98fc3b3d81bd655c2cc48858186e4d9e2db7b515bf1c3221888f12a62f87"
  },
  "kernelspec": {
   "display_name": "Python 3.9.6 64-bit",
   "language": "python",
   "name": "python3"
  },
  "language_info": {
   "codemirror_mode": {
    "name": "ipython",
    "version": 3
   },
   "file_extension": ".py",
   "mimetype": "text/x-python",
   "name": "python",
   "nbconvert_exporter": "python",
   "pygments_lexer": "ipython3",
   "version": "3.9.6"
  },
  "orig_nbformat": 4
 },
 "nbformat": 4,
 "nbformat_minor": 2
}
